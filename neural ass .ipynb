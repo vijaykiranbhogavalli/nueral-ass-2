{
 "cells": [
  {
   "cell_type": "code",
   "execution_count": 1,
   "id": "d52dc3f0",
   "metadata": {},
   "outputs": [
    {
     "name": "stdout",
     "output_type": "stream",
     "text": [
      "enter first name : vijay\n",
      "enter last name : Bhogavalli\n",
      "User full name :  vijay Bhogavalli\n",
      "Alternate String :  vjyBoaal\n"
     ]
    }
   ],
   "source": [
    "# question - 1\n",
    "first_name= input(\"enter first name : \")\n",
    "last_name= input(\"enter last name : \")\n",
    "\n",
    "def full_name(first_name,last_name):\n",
    "    return first_name +\" \"+last_name\n",
    "\n",
    "def string_alternative(full_name):\n",
    "    new_str = \"\"\n",
    "    for index in range(0,len(full_name),2):\n",
    "                       new_str+=full_name[index]        \n",
    "    return new_str               \n",
    "\n",
    "\n",
    "print(\"User full name : \",full_name(first_name,last_name))\n",
    "\n",
    "print(\"Alternate String : \",string_alternative(full_name(first_name,last_name)))"
   ]
  },
  {
   "cell_type": "code",
   "execution_count": 6,
   "id": "61346cb4",
   "metadata": {},
   "outputs": [
    {
     "name": "stdout",
     "output_type": "stream",
     "text": [
      "Python Course\n",
      "Deep Learning Course\n",
      "\n"
     ]
    }
   ],
   "source": [
    "# question - 2\n",
    "f = open(\"input.txt\",\"w\")   # creating a file\n",
    "f.write(\"Python Course\\n\")\n",
    "f.write(\"Deep Learning Course\\n\")\n",
    "f.close()\n",
    "f= open(\"input.txt\",\"r\")  # reading a file\n",
    "print(f.read())\n"
   ]
  },
  {
   "cell_type": "code",
   "execution_count": 7,
   "id": "d88cf7f9",
   "metadata": {},
   "outputs": [
    {
     "name": "stdout",
     "output_type": "stream",
     "text": [
      "Python Course\n",
      "Deep Learning Course\n",
      "Word_Count:\n",
      "Python: 1\n",
      "Course: 2\n",
      "Deep: 1\n",
      "Learning: 1\n"
     ]
    }
   ],
   "source": [
    "# question - 3\n",
    "from collections import Counter  # importing the file\n",
    "with open('input.txt', 'r') as file:   # opening the file\n",
    "    lines = file.readlines()  # read all lines of the files\n",
    "word_per_line = []\n",
    "for line in lines:\n",
    "    words = line.strip().split() # split() used to split the words # removes the white spaces\n",
    "    word_per_line.append(Counter(words)) # uses the counter to count the occurance of each word\n",
    "for line in lines:\n",
    "    print(line.strip()) # print the lines after white space removing\n",
    "print(\"Word_Count:\") # print the word count\n",
    "for word, count in Counter(word for wc in word_per_line for word in wc).items():\n",
    "    print(f\"{word}: {count}\")\n",
    "with open('output.txt', 'w') as output_file:\n",
    "    for line in lines:\n",
    "        output_file.write(line)\n",
    "    output_file.write(\"Word_Count:\\n\") # stores the output in output.txt file\n",
    "    for word, count in Counter(word for wc in word_per_line for word in wc).items():\n",
    "        output_file.write(f\"{word}: {count}\\n\")\n",
    "        "
   ]
  },
  {
   "cell_type": "code",
   "execution_count": null,
   "id": "ef335a58",
   "metadata": {},
   "outputs": [],
   "source": []
  },
  {
   "cell_type": "markdown",
   "id": "cab3ba03",
   "metadata": {},
   "source": []
  },
  {
   "cell_type": "code",
   "execution_count": 9,
   "id": "bcdfb9b8",
   "metadata": {},
   "outputs": [
    {
     "name": "stdout",
     "output_type": "stream",
     "text": [
      "No.of customers: 4\n",
      "Enter height in inches for customer 1: 150\n",
      "Enter height in inches for customer 2: 160\n",
      "Enter height in inches for customer 3: 130\n",
      "Enter height in inches for customer 4: 120\n",
      "Heights in Centimeters: [381.0, 406.4, 330.2, 304.8]\n"
     ]
    }
   ],
   "source": [
    "def convert_heights(heights_inches): # takes the heights in inches\n",
    "    return [round(height * 2.54, 2) for height in heights_inches] # convert height inches to cm\n",
    "num_cust = int(input(\"No.of customers: \"))\n",
    "heights_inches = [float(input(f\"Enter height in inches for customer {i + 1}: \")) for i in range(num_cust)]\n",
    "heights_cm = convert_heights(heights_inches)\n",
    "print(\"Heights in Centimeters:\", heights_cm)\n"
   ]
  },
  {
   "cell_type": "code",
   "execution_count": null,
   "id": "eff7fb82",
   "metadata": {},
   "outputs": [],
   "source": []
  }
 ],
 "metadata": {
  "kernelspec": {
   "display_name": "Python 3 (ipykernel)",
   "language": "python",
   "name": "python3"
  },
  "language_info": {
   "codemirror_mode": {
    "name": "ipython",
    "version": 3
   },
   "file_extension": ".py",
   "mimetype": "text/x-python",
   "name": "python",
   "nbconvert_exporter": "python",
   "pygments_lexer": "ipython3",
   "version": "3.11.5"
  }
 },
 "nbformat": 4,
 "nbformat_minor": 5
}
